{
 "cells": [
  {
   "cell_type": "markdown",
   "metadata": {
    "pycharm": {
     "name": "#%% md\n"
    }
   },
   "source": [
    "## Import required libraries"
   ]
  },
  {
   "cell_type": "code",
   "execution_count": null,
   "metadata": {
    "pycharm": {
     "is_executing": false
    }
   },
   "outputs": [],
   "source": [
    "import numpy as np\n",
    "import random as rd\n",
    "import matplotlib.pyplot as plt"
   ]
  },
  {
   "cell_type": "markdown",
   "metadata": {
    "pycharm": {
     "name": "#%% md\n"
    }
   },
   "source": [
    "## Generate the Input Space X\n",
    "The input space will be a set of 30 2D column-vectors."
   ]
  },
  {
   "cell_type": "code",
   "execution_count": null,
   "metadata": {
    "pycharm": {
     "is_executing": false
    }
   },
   "outputs": [],
   "source": [
    "input_space = []\n",
    "x0 = []\n",
    "x1 = []\n",
    "\n",
    "for i in range(0,30):\n",
    "    r = rd.Random()\n",
    "    x = [r.randrange(0,100), r.randrange(0,100)]\n",
    "    x0.append(x[0])\n",
    "    x1.append(x[1])\n",
    "    x_vector = [x]\n",
    "    x_vector = np.transpose(x_vector)\n",
    "    input_space.append(x_vector)\n",
    "\n",
    "for i in range(0, 3):\n",
    "    print(input_space[i])\n",
    "    if i == 2:\n",
    "        print('...\\n')\n",
    "\n",
    "plt.scatter(x=x0, y=x1)\n",
    "plt.grid(True)\n",
    "plt.suptitle('2D X Input Space')\n",
    "plt.show()"
   ]
  },
  {
   "cell_type": "markdown",
   "metadata": {
    "pycharm": {
     "name": "#%% md\n"
    }
   },
   "source": [
    "## Target Function\n",
    "Select a line (y=[integer]) to be the **target function** for the data-set D."
   ]
  },
  {
   "cell_type": "code",
   "execution_count": null,
   "metadata": {
    "pycharm": {
     "is_executing": false
    }
   },
   "outputs": [],
   "source": [
    "target_line = -1\n",
    "\n",
    "while target_line == -1:\n",
    "    try:\n",
    "        target_line = int(input(\"Enter a number between 0 and 100\"))\n",
    "        \n",
    "        if target_line < 0 | target_line > 100:\n",
    "            raise ValueError('Number ' + target_line + ' is not between 0 and 100')\n",
    "            \n",
    "    except ValueError as valErr:\n",
    "        print(valErr)\n",
    "        \n",
    "        tryAgain = input(\"Try again? (y/n)\")\n",
    "        \n",
    "        if tryAgain != 'y':\n",
    "            target_line = -2\n",
    "\n",
    "if target_line == -2:\n",
    "    target_line = 50\n",
    "    print('using default target - ' + str(target_line))\n",
    "else:\n",
    "    print('target-line: y = ' + str(target_line))\n",
    "\n",
    "# will be used for complex functions later\n",
    "# for now, parameter is ignored\n",
    "def target_function(x_coord):\n",
    "    return target_line\n",
    "\n",
    "f0 = []\n",
    "f1 = []\n",
    "for i in range(0,100):\n",
    "    f0.append(i)\n",
    "    f1.append(target_function(i))\n",
    "\n",
    "plt.plot(f0, f1, 'r--', x0, x1, 'bs')\n",
    "plt.ylim(0,100)\n",
    "plt.suptitle('2D Input Space with Target Function')\n",
    "plt.grid(True)\n",
    "plt.show()"
   ]
  },
  {
   "cell_type": "markdown",
   "metadata": {
    "pycharm": {
     "name": "#%% md\n"
    }
   },
   "source": [
    "## Generate the output Y for input space X\n",
    "\n",
    "Using the **target function** f(i), the 1-dimensional output-space Y will be generated. \n",
    "\n",
    "### Evaluating Y\n",
    "\n",
    "* If the vector Xi is *above* the target function, then Yi = 1.\n",
    "* If the vector Xi is *below* the target function, then Yi = -1.\n",
    "\n",
    "### Determining whether a point is *above* or *below*\n",
    "\n",
    "Since the target is just a horizontal line, whether the vector [i, j] is above or below the line will be determined by \n",
    "the 'j' value.\n",
    "\n",
    "If f(i) >= j then [i, j] is above the target function f(i)."
   ]
  },
  {
   "cell_type": "code",
   "execution_count": null,
   "metadata": {
    "pycharm": {
     "name": "#%%\n"
    }
   },
   "outputs": [],
   "source": [
    "def sign(vector):\n",
    "    if vector[1] >= target_line:\n",
    "        return 1\n",
    "    else:\n",
    "        return -1\n",
    "\n",
    "output_space = []\n",
    "positive_input_vectors = []\n",
    "negative_input_vectors = []\n",
    "\n",
    "for input_vector in input_space:\n",
    "    if sign(input_vector) == 1:\n",
    "        output_space.append(1)\n",
    "        positive_input_vectors.append(input_vector)\n",
    "    else:\n",
    "        output_space.append(-1)\n",
    "        negative_input_vectors.append(input_vector)\n",
    "\n",
    "# graph positive vectors\n",
    "p0 = []\n",
    "p1 = []\n",
    "for p in positive_input_vectors:\n",
    "    p0.append(p[0])\n",
    "    p1.append(p[1])\n",
    "    \n",
    "n0 = []\n",
    "n1 = []\n",
    "for n in negative_input_vectors:\n",
    "    n0.append(n[0])\n",
    "    n1.append(n[1])\n",
    "\n",
    "plt.suptitle('Positive Vectors')\n",
    "plt.plot(p0,p1,'bs', f0,f1,'r--')\n",
    "plt.ylim(0,100)\n",
    "plt.grid(True)\n",
    "plt.show()\n",
    "plt.ylim(0,100)\n",
    "plt.plot(n0,n1,'g^', f0,f1,'r--')\n",
    "plt.suptitle('Negative Vectors')\n",
    "plt.grid(True)\n",
    "plt.show()"
   ]
  },
  {
   "cell_type": "code",
   "execution_count": null,
   "metadata": {
    "pycharm": {
     "is_executing": false,
     "name": "#%%\n"
    }
   },
   "outputs": [],
   "source": [
    "data_set = []\n",
    "\n",
    "for i in range(0,20):\n",
    "    r = rd.Random();\n",
    "    x = [[r.randrange(1,100), r.randrange(1,100)]]\n",
    "    data_set.append(np.transpose(x)) "
   ]
  },
  {
   "cell_type": "markdown",
   "metadata": {},
   "source": [
    "Displaying the generated data points."
   ]
  },
  {
   "cell_type": "code",
   "execution_count": null,
   "metadata": {
    "pycharm": {
     "is_executing": false,
     "name": "#%%\n"
    }
   },
   "outputs": [],
   "source": [
    "# get x, y variables\n",
    "x_vars = []\n",
    "y_vars = []\n",
    "for i in data_set:\n",
    "    x_vars.append(i[0])\n",
    "    y_vars.append(i[1])\n",
    "\n",
    "plt.suptitle('2D Data Set')\n",
    "plt.plot(x_vars, y_vars, 'ro')\n",
    "plt.grid(True)\n",
    "plt.show()"
   ]
  },
  {
   "cell_type": "markdown",
   "metadata": {},
   "source": [
    "Choose a random line in the plane as the TARGET function."
   ]
  },
  {
   "cell_type": "code",
   "execution_count": null,
   "metadata": {
    "pycharm": {
     "is_executing": false,
     "name": "#%%\n"
    }
   },
   "outputs": [],
   "source": []
  }
 ],
 "metadata": {
  "kernelspec": {
   "display_name": "Python 3",
   "language": "python",
   "name": "python3"
  },
  "language_info": {
   "codemirror_mode": {
    "name": "ipython",
    "version": 3
   },
   "file_extension": ".py",
   "mimetype": "text/x-python",
   "name": "python",
   "nbconvert_exporter": "python",
   "pygments_lexer": "ipython3",
   "version": "3.6.9"
  },
  "pycharm": {
   "stem_cell": {
    "cell_type": "raw",
    "source": [],
    "metadata": {
     "collapsed": false
    }
   }
  }
 },
 "nbformat": 4,
 "nbformat_minor": 4
}